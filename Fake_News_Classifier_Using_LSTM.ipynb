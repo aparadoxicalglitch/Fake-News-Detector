{
  "cells": [
    {
      "cell_type": "code",
      "execution_count": 2,
      "metadata": {
        "id": "ukeP3LVU87T4"
      },
      "outputs": [
        {
          "ename": "ImportError",
          "evalue": "C extension: None not built. If you want to import pandas from the source directory, you may need to run 'python setup.py build_ext' to build the C extensions first.",
          "output_type": "error",
          "traceback": [
            "\u001b[1;31m---------------------------------------------------------------------------\u001b[0m",
            "\u001b[1;31mImportError\u001b[0m                               Traceback (most recent call last)",
            "File \u001b[1;32mc:\\Users\\himan\\AppData\\Local\\Programs\\Python\\Python39\\lib\\site-packages\\pandas\\__init__.py:50\u001b[0m\n\u001b[0;32m     48\u001b[0m \u001b[39mtry\u001b[39;00m:\n\u001b[0;32m     49\u001b[0m     \u001b[39m# numpy compat\u001b[39;00m\n\u001b[1;32m---> 50\u001b[0m     \u001b[39mfrom\u001b[39;00m \u001b[39mpandas\u001b[39;00m\u001b[39m.\u001b[39;00m\u001b[39mcompat\u001b[39;00m \u001b[39mimport\u001b[39;00m (\n\u001b[0;32m     51\u001b[0m         is_numpy_dev \u001b[39mas\u001b[39;00m _is_numpy_dev,  \u001b[39m# pyright: ignore[reportUnusedImport] # noqa: F401,E501\u001b[39;00m\n\u001b[0;32m     52\u001b[0m     )\n\u001b[0;32m     53\u001b[0m \u001b[39mexcept\u001b[39;00m \u001b[39mImportError\u001b[39;00m \u001b[39mas\u001b[39;00m _err:  \u001b[39m# pragma: no cover\u001b[39;00m\n",
            "File \u001b[1;32mc:\\Users\\himan\\AppData\\Local\\Programs\\Python\\Python39\\lib\\site-packages\\pandas\\compat\\__init__.py:26\u001b[0m\n\u001b[0;32m     25\u001b[0m \u001b[39mimport\u001b[39;00m \u001b[39mpandas\u001b[39;00m\u001b[39m.\u001b[39;00m\u001b[39mcompat\u001b[39;00m\u001b[39m.\u001b[39;00m\u001b[39mcompressors\u001b[39;00m\n\u001b[1;32m---> 26\u001b[0m \u001b[39mfrom\u001b[39;00m \u001b[39mpandas\u001b[39;00m\u001b[39m.\u001b[39;00m\u001b[39mcompat\u001b[39;00m\u001b[39m.\u001b[39;00m\u001b[39mnumpy\u001b[39;00m \u001b[39mimport\u001b[39;00m is_numpy_dev\n\u001b[0;32m     27\u001b[0m \u001b[39mfrom\u001b[39;00m \u001b[39mpandas\u001b[39;00m\u001b[39m.\u001b[39;00m\u001b[39mcompat\u001b[39;00m\u001b[39m.\u001b[39;00m\u001b[39mpyarrow\u001b[39;00m \u001b[39mimport\u001b[39;00m (\n\u001b[0;32m     28\u001b[0m     pa_version_under7p0,\n\u001b[0;32m     29\u001b[0m     pa_version_under8p0,\n\u001b[1;32m   (...)\u001b[0m\n\u001b[0;32m     32\u001b[0m     pa_version_under13p0,\n\u001b[0;32m     33\u001b[0m )\n",
            "File \u001b[1;32mc:\\Users\\himan\\AppData\\Local\\Programs\\Python\\Python39\\lib\\site-packages\\pandas\\compat\\numpy\\__init__.py:17\u001b[0m\n\u001b[0;32m     16\u001b[0m \u001b[39mif\u001b[39;00m _nlv \u001b[39m<\u001b[39m Version(_min_numpy_ver):\n\u001b[1;32m---> 17\u001b[0m     \u001b[39mraise\u001b[39;00m \u001b[39mImportError\u001b[39;00m(\n\u001b[0;32m     18\u001b[0m         \u001b[39mf\u001b[39m\u001b[39m\"\u001b[39m\u001b[39mthis version of pandas is incompatible with numpy < \u001b[39m\u001b[39m{\u001b[39;00m_min_numpy_ver\u001b[39m}\u001b[39;00m\u001b[39m\\n\u001b[39;00m\u001b[39m\"\u001b[39m\n\u001b[0;32m     19\u001b[0m         \u001b[39mf\u001b[39m\u001b[39m\"\u001b[39m\u001b[39myour numpy version is \u001b[39m\u001b[39m{\u001b[39;00m_np_version\u001b[39m}\u001b[39;00m\u001b[39m.\u001b[39m\u001b[39m\\n\u001b[39;00m\u001b[39m\"\u001b[39m\n\u001b[0;32m     20\u001b[0m         \u001b[39mf\u001b[39m\u001b[39m\"\u001b[39m\u001b[39mPlease upgrade numpy to >= \u001b[39m\u001b[39m{\u001b[39;00m_min_numpy_ver\u001b[39m}\u001b[39;00m\u001b[39m to use this pandas version\u001b[39m\u001b[39m\"\u001b[39m\n\u001b[0;32m     21\u001b[0m     )\n\u001b[0;32m     24\u001b[0m __all__ \u001b[39m=\u001b[39m [\n\u001b[0;32m     25\u001b[0m     \u001b[39m\"\u001b[39m\u001b[39mnp\u001b[39m\u001b[39m\"\u001b[39m,\n\u001b[0;32m     26\u001b[0m     \u001b[39m\"\u001b[39m\u001b[39m_np_version\u001b[39m\u001b[39m\"\u001b[39m,\n\u001b[0;32m     27\u001b[0m     \u001b[39m\"\u001b[39m\u001b[39mis_numpy_dev\u001b[39m\u001b[39m\"\u001b[39m,\n\u001b[0;32m     28\u001b[0m ]\n",
            "\u001b[1;31mImportError\u001b[0m: this version of pandas is incompatible with numpy < 1.22.4\nyour numpy version is 1.21.0.\nPlease upgrade numpy to >= 1.22.4 to use this pandas version",
            "\nThe above exception was the direct cause of the following exception:\n",
            "\u001b[1;31mImportError\u001b[0m                               Traceback (most recent call last)",
            "\u001b[1;32mc:\\Users\\himan\\Downloads\\Fake_News_Detector-master\\Fake_News_Detector-master\\Fake_News_Classifier_Using_LSTM.ipynb Cell 1\u001b[0m line \u001b[0;36m1\n\u001b[1;32m----> <a href='vscode-notebook-cell:/c%3A/Users/himan/Downloads/Fake_News_Detector-master/Fake_News_Detector-master/Fake_News_Classifier_Using_LSTM.ipynb#W0sZmlsZQ%3D%3D?line=0'>1</a>\u001b[0m \u001b[39mimport\u001b[39;00m \u001b[39mpandas\u001b[39;00m \u001b[39mas\u001b[39;00m \u001b[39mpd\u001b[39;00m\n\u001b[0;32m      <a href='vscode-notebook-cell:/c%3A/Users/himan/Downloads/Fake_News_Detector-master/Fake_News_Detector-master/Fake_News_Classifier_Using_LSTM.ipynb#W0sZmlsZQ%3D%3D?line=1'>2</a>\u001b[0m \u001b[39mimport\u001b[39;00m \u001b[39mnumpy\u001b[39;00m \u001b[39mas\u001b[39;00m \u001b[39mnp\u001b[39;00m\n",
            "File \u001b[1;32mc:\\Users\\himan\\AppData\\Local\\Programs\\Python\\Python39\\lib\\site-packages\\pandas\\__init__.py:55\u001b[0m\n\u001b[0;32m     53\u001b[0m \u001b[39mexcept\u001b[39;00m \u001b[39mImportError\u001b[39;00m \u001b[39mas\u001b[39;00m _err:  \u001b[39m# pragma: no cover\u001b[39;00m\n\u001b[0;32m     54\u001b[0m     _module \u001b[39m=\u001b[39m _err\u001b[39m.\u001b[39mname\n\u001b[1;32m---> 55\u001b[0m     \u001b[39mraise\u001b[39;00m \u001b[39mImportError\u001b[39;00m(\n\u001b[0;32m     56\u001b[0m         \u001b[39mf\u001b[39m\u001b[39m\"\u001b[39m\u001b[39mC extension: \u001b[39m\u001b[39m{\u001b[39;00m_module\u001b[39m}\u001b[39;00m\u001b[39m not built. If you want to import \u001b[39m\u001b[39m\"\u001b[39m\n\u001b[0;32m     57\u001b[0m         \u001b[39m\"\u001b[39m\u001b[39mpandas from the source directory, you may need to run \u001b[39m\u001b[39m\"\u001b[39m\n\u001b[0;32m     58\u001b[0m         \u001b[39m\"\u001b[39m\u001b[39m'\u001b[39m\u001b[39mpython setup.py build_ext\u001b[39m\u001b[39m'\u001b[39m\u001b[39m to build the C extensions first.\u001b[39m\u001b[39m\"\u001b[39m\n\u001b[0;32m     59\u001b[0m     ) \u001b[39mfrom\u001b[39;00m \u001b[39m_err\u001b[39;00m\n\u001b[0;32m     61\u001b[0m \u001b[39mfrom\u001b[39;00m \u001b[39mpandas\u001b[39;00m\u001b[39m.\u001b[39;00m\u001b[39m_config\u001b[39;00m \u001b[39mimport\u001b[39;00m (\n\u001b[0;32m     62\u001b[0m     get_option,\n\u001b[0;32m     63\u001b[0m     set_option,\n\u001b[1;32m   (...)\u001b[0m\n\u001b[0;32m     67\u001b[0m     options,\n\u001b[0;32m     68\u001b[0m )\n\u001b[0;32m     70\u001b[0m \u001b[39m# let init-time option registration happen\u001b[39;00m\n",
            "\u001b[1;31mImportError\u001b[0m: C extension: None not built. If you want to import pandas from the source directory, you may need to run 'python setup.py build_ext' to build the C extensions first."
          ]
        }
      ],
      "source": [
        "import pandas as pd\n",
        "import numpy as np"
      ]
    },
    {
      "cell_type": "code",
      "execution_count": null,
      "metadata": {
        "colab": {
          "base_uri": "https://localhost:8080/",
          "height": 195
        },
        "id": "8Foyno_A9bfd",
        "outputId": "fdfa2c0f-e3de-4dd0-b3ce-d21516eaa29e"
      },
      "outputs": [
        {
          "data": {
            "text/html": [
              "<div>\n",
              "<style scoped>\n",
              "    .dataframe tbody tr th:only-of-type {\n",
              "        vertical-align: middle;\n",
              "    }\n",
              "\n",
              "    .dataframe tbody tr th {\n",
              "        vertical-align: top;\n",
              "    }\n",
              "\n",
              "    .dataframe thead th {\n",
              "        text-align: right;\n",
              "    }\n",
              "</style>\n",
              "<table border=\"1\" class=\"dataframe\">\n",
              "  <thead>\n",
              "    <tr style=\"text-align: right;\">\n",
              "      <th></th>\n",
              "      <th>id</th>\n",
              "      <th>title</th>\n",
              "      <th>author</th>\n",
              "      <th>text</th>\n",
              "      <th>label</th>\n",
              "    </tr>\n",
              "  </thead>\n",
              "  <tbody>\n",
              "    <tr>\n",
              "      <th>0</th>\n",
              "      <td>0</td>\n",
              "      <td>House Dem Aide: We Didn’t Even See Comey’s Let...</td>\n",
              "      <td>Darrell Lucus</td>\n",
              "      <td>House Dem Aide: We Didn’t Even See Comey’s Let...</td>\n",
              "      <td>1</td>\n",
              "    </tr>\n",
              "    <tr>\n",
              "      <th>1</th>\n",
              "      <td>1</td>\n",
              "      <td>FLYNN: Hillary Clinton, Big Woman on Campus - ...</td>\n",
              "      <td>Daniel J. Flynn</td>\n",
              "      <td>Ever get the feeling your life circles the rou...</td>\n",
              "      <td>0</td>\n",
              "    </tr>\n",
              "    <tr>\n",
              "      <th>2</th>\n",
              "      <td>2</td>\n",
              "      <td>Why the Truth Might Get You Fired</td>\n",
              "      <td>Consortiumnews.com</td>\n",
              "      <td>Why the Truth Might Get You Fired October 29, ...</td>\n",
              "      <td>1</td>\n",
              "    </tr>\n",
              "    <tr>\n",
              "      <th>3</th>\n",
              "      <td>3</td>\n",
              "      <td>15 Civilians Killed In Single US Airstrike Hav...</td>\n",
              "      <td>Jessica Purkiss</td>\n",
              "      <td>Videos 15 Civilians Killed In Single US Airstr...</td>\n",
              "      <td>1</td>\n",
              "    </tr>\n",
              "    <tr>\n",
              "      <th>4</th>\n",
              "      <td>4</td>\n",
              "      <td>Iranian woman jailed for fictional unpublished...</td>\n",
              "      <td>Howard Portnoy</td>\n",
              "      <td>Print \\nAn Iranian woman has been sentenced to...</td>\n",
              "      <td>1</td>\n",
              "    </tr>\n",
              "  </tbody>\n",
              "</table>\n",
              "</div>"
            ],
            "text/plain": [
              "   id  ... label\n",
              "0   0  ...     1\n",
              "1   1  ...     0\n",
              "2   2  ...     1\n",
              "3   3  ...     1\n",
              "4   4  ...     1\n",
              "\n",
              "[5 rows x 5 columns]"
            ]
          },
          "execution_count": 2,
          "metadata": {
            "tags": []
          },
          "output_type": "execute_result"
        }
      ],
      "source": [
        "data = pd.read_csv(\"C:\\Users\\himan\\OneDrive\\Desktop\\Project\\PT3\\Fake News Detector\\train.csv\")\n",
        "data.head()"
      ]
    },
    {
      "cell_type": "code",
      "execution_count": null,
      "metadata": {
        "colab": {
          "base_uri": "https://localhost:8080/",
          "height": 118
        },
        "id": "2OAPxrGl9m3L",
        "outputId": "8ab52dae-cfbd-4903-c81e-a53804981e2e"
      },
      "outputs": [
        {
          "data": {
            "text/plain": [
              "id           0\n",
              "title      558\n",
              "author    1957\n",
              "text        39\n",
              "label        0\n",
              "dtype: int64"
            ]
          },
          "execution_count": 3,
          "metadata": {
            "tags": []
          },
          "output_type": "execute_result"
        }
      ],
      "source": [
        "data.isnull().sum()"
      ]
    },
    {
      "cell_type": "code",
      "execution_count": null,
      "metadata": {
        "colab": {
          "base_uri": "https://localhost:8080/",
          "height": 118
        },
        "id": "wQYzDwrF-Der",
        "outputId": "48f84aa1-e7c0-4c9e-a40e-856332d79b69"
      },
      "outputs": [
        {
          "data": {
            "text/plain": [
              "id        0\n",
              "title     0\n",
              "author    0\n",
              "text      0\n",
              "label     0\n",
              "dtype: int64"
            ]
          },
          "execution_count": 4,
          "metadata": {
            "tags": []
          },
          "output_type": "execute_result"
        }
      ],
      "source": [
        "df = data.dropna()\n",
        "df.isnull().sum()"
      ]
    },
    {
      "cell_type": "code",
      "execution_count": null,
      "metadata": {
        "id": "Hhuwa8NF-MYd"
      },
      "outputs": [],
      "source": [
        "X = df.drop('label', axis = 1)\n",
        "y = df['label']"
      ]
    },
    {
      "cell_type": "code",
      "execution_count": null,
      "metadata": {
        "colab": {
          "base_uri": "https://localhost:8080/",
          "height": 34
        },
        "id": "sD0nqQvd-UW4",
        "outputId": "2ed6b416-263b-4cbb-ad9b-7f6455022bf3"
      },
      "outputs": [
        {
          "data": {
            "text/plain": [
              "((18285, 4), (18285,))"
            ]
          },
          "execution_count": 6,
          "metadata": {
            "tags": []
          },
          "output_type": "execute_result"
        }
      ],
      "source": [
        "X.shape, y.shape"
      ]
    },
    {
      "cell_type": "code",
      "execution_count": null,
      "metadata": {
        "id": "bkFzwygN-Yp0"
      },
      "outputs": [],
      "source": [
        "from tensorflow.keras.models import Sequential\n",
        "from tensorflow.keras.layers import Embedding, Dense, LSTM, Dropout\n",
        "from tensorflow.keras.preprocessing.sequence import pad_sequences\n",
        "from tensorflow.keras.preprocessing.text import one_hot"
      ]
    },
    {
      "cell_type": "code",
      "execution_count": null,
      "metadata": {
        "id": "4JP6Uwr-_KtX"
      },
      "outputs": [],
      "source": [
        "vocab_size = 5000"
      ]
    },
    {
      "cell_type": "code",
      "execution_count": null,
      "metadata": {
        "colab": {
          "base_uri": "https://localhost:8080/",
          "height": 195
        },
        "id": "UE08PdqYAlkv",
        "outputId": "28a0a8b3-3577-4906-a58c-0f7730eab296"
      },
      "outputs": [
        {
          "data": {
            "text/html": [
              "<div>\n",
              "<style scoped>\n",
              "    .dataframe tbody tr th:only-of-type {\n",
              "        vertical-align: middle;\n",
              "    }\n",
              "\n",
              "    .dataframe tbody tr th {\n",
              "        vertical-align: top;\n",
              "    }\n",
              "\n",
              "    .dataframe thead th {\n",
              "        text-align: right;\n",
              "    }\n",
              "</style>\n",
              "<table border=\"1\" class=\"dataframe\">\n",
              "  <thead>\n",
              "    <tr style=\"text-align: right;\">\n",
              "      <th></th>\n",
              "      <th>index</th>\n",
              "      <th>id</th>\n",
              "      <th>title</th>\n",
              "      <th>author</th>\n",
              "      <th>text</th>\n",
              "    </tr>\n",
              "  </thead>\n",
              "  <tbody>\n",
              "    <tr>\n",
              "      <th>0</th>\n",
              "      <td>0</td>\n",
              "      <td>0</td>\n",
              "      <td>House Dem Aide: We Didn’t Even See Comey’s Let...</td>\n",
              "      <td>Darrell Lucus</td>\n",
              "      <td>House Dem Aide: We Didn’t Even See Comey’s Let...</td>\n",
              "    </tr>\n",
              "    <tr>\n",
              "      <th>1</th>\n",
              "      <td>1</td>\n",
              "      <td>1</td>\n",
              "      <td>FLYNN: Hillary Clinton, Big Woman on Campus - ...</td>\n",
              "      <td>Daniel J. Flynn</td>\n",
              "      <td>Ever get the feeling your life circles the rou...</td>\n",
              "    </tr>\n",
              "    <tr>\n",
              "      <th>2</th>\n",
              "      <td>2</td>\n",
              "      <td>2</td>\n",
              "      <td>Why the Truth Might Get You Fired</td>\n",
              "      <td>Consortiumnews.com</td>\n",
              "      <td>Why the Truth Might Get You Fired October 29, ...</td>\n",
              "    </tr>\n",
              "    <tr>\n",
              "      <th>3</th>\n",
              "      <td>3</td>\n",
              "      <td>3</td>\n",
              "      <td>15 Civilians Killed In Single US Airstrike Hav...</td>\n",
              "      <td>Jessica Purkiss</td>\n",
              "      <td>Videos 15 Civilians Killed In Single US Airstr...</td>\n",
              "    </tr>\n",
              "    <tr>\n",
              "      <th>4</th>\n",
              "      <td>4</td>\n",
              "      <td>4</td>\n",
              "      <td>Iranian woman jailed for fictional unpublished...</td>\n",
              "      <td>Howard Portnoy</td>\n",
              "      <td>Print \\nAn Iranian woman has been sentenced to...</td>\n",
              "    </tr>\n",
              "  </tbody>\n",
              "</table>\n",
              "</div>"
            ],
            "text/plain": [
              "   index  ...                                               text\n",
              "0      0  ...  House Dem Aide: We Didn’t Even See Comey’s Let...\n",
              "1      1  ...  Ever get the feeling your life circles the rou...\n",
              "2      2  ...  Why the Truth Might Get You Fired October 29, ...\n",
              "3      3  ...  Videos 15 Civilians Killed In Single US Airstr...\n",
              "4      4  ...  Print \\nAn Iranian woman has been sentenced to...\n",
              "\n",
              "[5 rows x 5 columns]"
            ]
          },
          "execution_count": 9,
          "metadata": {
            "tags": []
          },
          "output_type": "execute_result"
        }
      ],
      "source": [
        "messages = X.copy()\n",
        "messages.reset_index(inplace = True)\n",
        "messages.head()"
      ]
    },
    {
      "cell_type": "code",
      "execution_count": null,
      "metadata": {
        "id": "RrOECTSFAzM1"
      },
      "outputs": [],
      "source": [
        "import nltk\n",
        "import re\n",
        "from nltk.corpus import stopwords\n",
        "from nltk.stem.porter import PorterStemmer\n",
        "from nltk.stem import WordNetLemmatizer"
      ]
    },
    {
      "cell_type": "code",
      "execution_count": null,
      "metadata": {
        "colab": {
          "base_uri": "https://localhost:8080/",
          "height": 101
        },
        "id": "6kaUAm0QA_st",
        "outputId": "a864cef0-b903-4891-b912-f13f31fce008"
      },
      "outputs": [
        {
          "name": "stdout",
          "output_type": "stream",
          "text": [
            "[nltk_data] Downloading package stopwords to /root/nltk_data...\n",
            "[nltk_data]   Unzipping corpora/stopwords.zip.\n",
            "[nltk_data] Downloading package wordnet to /root/nltk_data...\n",
            "[nltk_data]   Unzipping corpora/wordnet.zip.\n"
          ]
        },
        {
          "data": {
            "text/plain": [
              "True"
            ]
          },
          "execution_count": 11,
          "metadata": {
            "tags": []
          },
          "output_type": "execute_result"
        }
      ],
      "source": [
        "nltk.download(\"stopwords\")\n",
        "nltk.download('wordnet')"
      ]
    },
    {
      "cell_type": "code",
      "execution_count": null,
      "metadata": {
        "id": "QAgxbHUeBFin"
      },
      "outputs": [],
      "source": [
        "ps = PorterStemmer()\n",
        "lm = WordNetLemmatizer()\n",
        "corpus = []\n",
        "for i in range(len(messages)):\n",
        "  review = re.sub('[^a-zA-Z]', ' ', messages['text'][i])\n",
        "  review = review.lower()\n",
        "  review = review.split()\n",
        "\n",
        "  review = [ps.stem(word) for word in review if word not in stopwords.words('english')]\n",
        "  review = ' '.join(review)\n",
        "  corpus.append(review)"
      ]
    },
    {
      "cell_type": "code",
      "execution_count": null,
      "metadata": {
        "colab": {
          "base_uri": "https://localhost:8080/",
          "height": 1000
        },
        "id": "Tm1JcgD0C8yK",
        "outputId": "a348736c-cfed-4be1-b24e-60fff9b3e298"
      },
      "outputs": [
        {
          "data": {
            "text/plain": [
              "[1482,\n",
              " 4876,\n",
              " 4536,\n",
              " 1719,\n",
              " 2697,\n",
              " 4410,\n",
              " 2052,\n",
              " 1985,\n",
              " 2257,\n",
              " 4334,\n",
              " 1306,\n",
              " 2466,\n",
              " 4403,\n",
              " 3092,\n",
              " 1985,\n",
              " 2257,\n",
              " 3571,\n",
              " 699,\n",
              " 2679,\n",
              " 946,\n",
              " 2204,\n",
              " 495,\n",
              " 1665,\n",
              " 259,\n",
              " 2150,\n",
              " 1505,\n",
              " 3733,\n",
              " 118,\n",
              " 2365,\n",
              " 2200,\n",
              " 3710,\n",
              " 498,\n",
              " 600,\n",
              " 4446,\n",
              " 811,\n",
              " 1941,\n",
              " 1967,\n",
              " 788,\n",
              " 3392,\n",
              " 4410,\n",
              " 2959,\n",
              " 1482,\n",
              " 112,\n",
              " 4536,\n",
              " 4817,\n",
              " 3372,\n",
              " 4726,\n",
              " 471,\n",
              " 2602,\n",
              " 600,\n",
              " 4446,\n",
              " 1722,\n",
              " 4151,\n",
              " 4410,\n",
              " 1035,\n",
              " 2389,\n",
              " 2052,\n",
              " 930,\n",
              " 1967,\n",
              " 4817,\n",
              " 919,\n",
              " 843,\n",
              " 1080,\n",
              " 4927,\n",
              " 662,\n",
              " 919,\n",
              " 1346,\n",
              " 3617,\n",
              " 112,\n",
              " 1936,\n",
              " 4623,\n",
              " 206,\n",
              " 4410,\n",
              " 2548,\n",
              " 2707,\n",
              " 4334,\n",
              " 2063,\n",
              " 2862,\n",
              " 4623,\n",
              " 3702,\n",
              " 471,\n",
              " 4410,\n",
              " 3044,\n",
              " 2862,\n",
              " 3702,\n",
              " 112,\n",
              " 3617,\n",
              " 4277,\n",
              " 1482,\n",
              " 2005,\n",
              " 244,\n",
              " 902,\n",
              " 4623,\n",
              " 718,\n",
              " 3406,\n",
              " 919,\n",
              " 4385,\n",
              " 4203,\n",
              " 1906,\n",
              " 2697,\n",
              " 3143,\n",
              " 2210,\n",
              " 1379,\n",
              " 4452,\n",
              " 2052,\n",
              " 55,\n",
              " 902,\n",
              " 4623,\n",
              " 800,\n",
              " 1985,\n",
              " 2257,\n",
              " 4747,\n",
              " 2112,\n",
              " 811,\n",
              " 3146,\n",
              " 4334,\n",
              " 1967,\n",
              " 2099,\n",
              " 1379,\n",
              " 1967,\n",
              " 3454,\n",
              " 2066,\n",
              " 919,\n",
              " 1899,\n",
              " 3147,\n",
              " 4966,\n",
              " 2205,\n",
              " 1729,\n",
              " 1985,\n",
              " 2257,\n",
              " 508,\n",
              " 4403,\n",
              " 2750,\n",
              " 471,\n",
              " 2205,\n",
              " 4410,\n",
              " 4251,\n",
              " 4017,\n",
              " 3406,\n",
              " 919,\n",
              " 2563,\n",
              " 956,\n",
              " 2205,\n",
              " 471,\n",
              " 2688,\n",
              " 118,\n",
              " 4232,\n",
              " 3812,\n",
              " 2160,\n",
              " 3321,\n",
              " 226,\n",
              " 1250,\n",
              " 2381,\n",
              " 2257,\n",
              " 946,\n",
              " 2862,\n",
              " 2501,\n",
              " 3455,\n",
              " 712,\n",
              " 4942,\n",
              " 4966,\n",
              " 4927,\n",
              " 3834,\n",
              " 2581,\n",
              " 1417,\n",
              " 1517,\n",
              " 1976,\n",
              " 863,\n",
              " 4790,\n",
              " 2294,\n",
              " 1976,\n",
              " 2160,\n",
              " 2257,\n",
              " 4927,\n",
              " 1967,\n",
              " 2501,\n",
              " 4930,\n",
              " 3584,\n",
              " 4334,\n",
              " 2712,\n",
              " 3308,\n",
              " 2526,\n",
              " 469,\n",
              " 880,\n",
              " 4905,\n",
              " 1705,\n",
              " 2959,\n",
              " 3010,\n",
              " 1482,\n",
              " 112,\n",
              " 4536,\n",
              " 2246,\n",
              " 2052,\n",
              " 843,\n",
              " 2581,\n",
              " 2257,\n",
              " 1945,\n",
              " 4536,\n",
              " 469,\n",
              " 2300,\n",
              " 3843,\n",
              " 112,\n",
              " 1719,\n",
              " 471,\n",
              " 4410,\n",
              " 2052,\n",
              " 2145,\n",
              " 2548,\n",
              " 4777,\n",
              " 2592,\n",
              " 112,\n",
              " 3617,\n",
              " 4277,\n",
              " 1936,\n",
              " 4623,\n",
              " 3142,\n",
              " 4410,\n",
              " 2052,\n",
              " 2862,\n",
              " 3702,\n",
              " 1250,\n",
              " 112,\n",
              " 3617,\n",
              " 4277,\n",
              " 3142,\n",
              " 800,\n",
              " 902,\n",
              " 29,\n",
              " 2757,\n",
              " 4623,\n",
              " 1985,\n",
              " 2257,\n",
              " 4334,\n",
              " 1766,\n",
              " 2943,\n",
              " 306,\n",
              " 2697,\n",
              " 2652,\n",
              " 2903,\n",
              " 1967,\n",
              " 788,\n",
              " 4227,\n",
              " 2257,\n",
              " 3918,\n",
              " 4623,\n",
              " 3702,\n",
              " 3954,\n",
              " 2377,\n",
              " 4251,\n",
              " 2112,\n",
              " 3068,\n",
              " 4966,\n",
              " 3877,\n",
              " 2257,\n",
              " 2026,\n",
              " 495,\n",
              " 306,\n",
              " 112,\n",
              " 2949,\n",
              " 471,\n",
              " 267,\n",
              " 2959,\n",
              " 4536,\n",
              " 1766,\n",
              " 1224,\n",
              " 2592,\n",
              " 2501,\n",
              " 3342,\n",
              " 3176,\n",
              " 697,\n",
              " 4410,\n",
              " 1773,\n",
              " 1999,\n",
              " 4718,\n",
              " 2052,\n",
              " 2257,\n",
              " 2862,\n",
              " 3090,\n",
              " 2145,\n",
              " 4151,\n",
              " 2529,\n",
              " 1370,\n",
              " 843,\n",
              " 4011,\n",
              " 3565,\n",
              " 1903,\n",
              " 4589,\n",
              " 3547,\n",
              " 1719,\n",
              " 2345,\n",
              " 2205,\n",
              " 4589,\n",
              " 3547,\n",
              " 2345,\n",
              " 4410,\n",
              " 4959,\n",
              " 1853,\n",
              " 1620,\n",
              " 1429,\n",
              " 2799,\n",
              " 2345,\n",
              " 428,\n",
              " 2257,\n",
              " 3029,\n",
              " 1666,\n",
              " 4011,\n",
              " 740,\n",
              " 1218,\n",
              " 1306,\n",
              " 2896,\n",
              " 4817,\n",
              " 3372,\n",
              " 2390,\n",
              " 165,\n",
              " 2118,\n",
              " 1719,\n",
              " 4693,\n",
              " 3044,\n",
              " 3617,\n",
              " 4277,\n",
              " 2240,\n",
              " 1046,\n",
              " 898,\n",
              " 3068,\n",
              " 2086,\n",
              " 82,\n",
              " 1917,\n",
              " 808,\n",
              " 471,\n",
              " 4488,\n",
              " 3372,\n",
              " 2257,\n",
              " 957,\n",
              " 652,\n",
              " 852,\n",
              " 2862,\n",
              " 1248,\n",
              " 4344,\n",
              " 2317,\n",
              " 1433,\n",
              " 2448,\n",
              " 4747,\n",
              " 1442,\n",
              " 1355,\n",
              " 4506,\n",
              " 1017,\n",
              " 3575,\n",
              " 124,\n",
              " 4785,\n",
              " 3871,\n",
              " 1442,\n",
              " 745,\n",
              " 2862,\n",
              " 1482,\n",
              " 2869,\n",
              " 1415,\n",
              " 1284,\n",
              " 4532,\n",
              " 2257,\n",
              " 288,\n",
              " 1822,\n",
              " 2779,\n",
              " 1156,\n",
              " 4151,\n",
              " 3060,\n",
              " 2563,\n",
              " 1712,\n",
              " 3605,\n",
              " 1482,\n",
              " 4744,\n",
              " 2862,\n",
              " 2134,\n",
              " 4726,\n",
              " 2602,\n",
              " 600,\n",
              " 4446,\n",
              " 811,\n",
              " 1306,\n",
              " 2466,\n",
              " 1306,\n",
              " 898,\n",
              " 3250,\n",
              " 2695,\n",
              " 1925,\n",
              " 82,\n",
              " 1437,\n",
              " 1821,\n",
              " 4379,\n",
              " 4014,\n",
              " 1641,\n",
              " 4151,\n",
              " 4277,\n",
              " 3530,\n",
              " 2903,\n",
              " 2365,\n",
              " 2022,\n",
              " 4151,\n",
              " 3530,\n",
              " 2903,\n",
              " 600,\n",
              " 2643,\n",
              " 3224,\n",
              " 34,\n",
              " 4290,\n",
              " 358,\n",
              " 2958,\n",
              " 1801,\n",
              " 1028,\n",
              " 1009,\n",
              " 901,\n",
              " 4918,\n",
              " 3248,\n",
              " 1303,\n",
              " 1517,\n",
              " 658,\n",
              " 843,\n",
              " 471,\n",
              " 3176,\n",
              " 697,\n",
              " 34,\n",
              " 4876,\n",
              " 3401,\n",
              " 2902,\n",
              " 2592,\n",
              " 3556,\n",
              " 37,\n",
              " 49,\n",
              " 270,\n",
              " 994,\n",
              " 1306,\n",
              " 3640,\n",
              " 690,\n",
              " 37]"
            ]
          },
          "execution_count": 14,
          "metadata": {
            "tags": []
          },
          "output_type": "execute_result"
        }
      ],
      "source": [
        "one_hot_representation = [one_hot(sentence, vocab_size) for sentence in corpus]\n",
        "one_hot_representation[0]"
      ]
    },
    {
      "cell_type": "code",
      "execution_count": null,
      "metadata": {
        "colab": {
          "base_uri": "https://localhost:8080/",
          "height": 336
        },
        "id": "5fKmxu1yD-Bm",
        "outputId": "446b005e-7736-46ee-a26f-907fcdf649c1"
      },
      "outputs": [
        {
          "data": {
            "text/plain": [
              "array([1766, 2943,  306, 2697, 2652, 2903, 1967,  788, 4227, 2257, 3918,\n",
              "       4623, 3702, 3954, 2377, 4251, 2112, 3068, 4966, 3877, 2257, 2026,\n",
              "        495,  306,  112, 2949,  471,  267, 2959, 4536, 1766, 1224, 2592,\n",
              "       2501, 3342, 3176,  697, 4410, 1773, 1999, 4718, 2052, 2257, 2862,\n",
              "       3090, 2145, 4151, 2529, 1370,  843, 4011, 3565, 1903, 4589, 3547,\n",
              "       1719, 2345, 2205, 4589, 3547, 2345, 4410, 4959, 1853, 1620, 1429,\n",
              "       2799, 2345,  428, 2257, 3029, 1666, 4011,  740, 1218, 1306, 2896,\n",
              "       4817, 3372, 2390,  165, 2118, 1719, 4693, 3044, 3617, 4277, 2240,\n",
              "       1046,  898, 3068, 2086,   82, 1917,  808,  471, 4488, 3372, 2257,\n",
              "        957,  652,  852, 2862, 1248, 4344, 2317, 1433, 2448, 4747, 1442,\n",
              "       1355, 4506, 1017, 3575,  124, 4785, 3871, 1442,  745, 2862, 1482,\n",
              "       2869, 1415, 1284, 4532, 2257,  288, 1822, 2779, 1156, 4151, 3060,\n",
              "       2563, 1712, 3605, 1482, 4744, 2862, 2134, 4726, 2602,  600, 4446,\n",
              "        811, 1306, 2466, 1306,  898, 3250, 2695, 1925,   82, 1437, 1821,\n",
              "       4379, 4014, 1641, 4151, 4277, 3530, 2903, 2365, 2022, 4151, 3530,\n",
              "       2903,  600, 2643, 3224,   34, 4290,  358, 2958, 1801, 1028, 1009,\n",
              "        901, 4918, 3248, 1303, 1517,  658,  843,  471, 3176,  697,   34,\n",
              "       4876, 3401, 2902, 2592, 3556,   37,   49,  270,  994, 1306, 3640,\n",
              "        690,   37], dtype=int32)"
            ]
          },
          "execution_count": 17,
          "metadata": {
            "tags": []
          },
          "output_type": "execute_result"
        }
      ],
      "source": [
        "sentence_length = 200\n",
        "padded_sentences = pad_sequences(one_hot_representation, padding='pre', maxlen=sentence_length)\n",
        "padded_sentences[0]"
      ]
    },
    {
      "cell_type": "code",
      "execution_count": null,
      "metadata": {
        "id": "oN6vymgyIDGL"
      },
      "outputs": [],
      "source": [
        "X_final = np.array(padded_sentences)\n",
        "y_final = np.array(y)"
      ]
    },
    {
      "cell_type": "code",
      "execution_count": null,
      "metadata": {
        "id": "CVI4I6K_Ial4"
      },
      "outputs": [],
      "source": [
        "from sklearn.model_selection import train_test_split\n",
        "X_train, X_test, y_train, y_test = train_test_split(X_final , y_final, test_size = 0.2, random_state = 42)"
      ]
    },
    {
      "cell_type": "code",
      "execution_count": null,
      "metadata": {
        "colab": {
          "base_uri": "https://localhost:8080/",
          "height": 319
        },
        "id": "FmodsnvoGBv6",
        "outputId": "3860ac6e-2610-46aa-eec5-50b87e2a2c5b"
      },
      "outputs": [
        {
          "name": "stdout",
          "output_type": "stream",
          "text": [
            "Model: \"sequential\"\n",
            "_________________________________________________________________\n",
            "Layer (type)                 Output Shape              Param #   \n",
            "=================================================================\n",
            "embedding (Embedding)        (None, 200, 100)          500000    \n",
            "_________________________________________________________________\n",
            "dropout (Dropout)            (None, 200, 100)          0         \n",
            "_________________________________________________________________\n",
            "lstm (LSTM)                  (None, 150)               150600    \n",
            "_________________________________________________________________\n",
            "dropout_1 (Dropout)          (None, 150)               0         \n",
            "_________________________________________________________________\n",
            "dense (Dense)                (None, 1)                 151       \n",
            "=================================================================\n",
            "Total params: 650,751\n",
            "Trainable params: 650,751\n",
            "Non-trainable params: 0\n",
            "_________________________________________________________________\n"
          ]
        }
      ],
      "source": [
        "embedding_vector_features = 100\n",
        "\n",
        "model = Sequential()\n",
        "\n",
        "model.add(Embedding(vocab_size, embedding_vector_features, input_length=sentence_length))\n",
        "\n",
        "model.add(Dropout(0.3))\n",
        "model.add(LSTM(150))\n",
        "model.add(Dropout(0.3))\n",
        "\n",
        "model.add(Dense(1, activation = 'sigmoid'))\n",
        "\n",
        "model.compile(loss = 'binary_crossentropy', optimizer = 'adam', metrics = ['accuracy'])\n",
        "\n",
        "model.summary()"
      ]
    },
    {
      "cell_type": "code",
      "execution_count": null,
      "metadata": {
        "colab": {
          "base_uri": "https://localhost:8080/",
          "height": 706
        },
        "id": "G8oA446WIq74",
        "outputId": "7a49efc2-1327-4a69-eec2-d8797c2d7552"
      },
      "outputs": [
        {
          "name": "stdout",
          "output_type": "stream",
          "text": [
            "Epoch 1/20\n",
            "229/229 [==============================] - 6s 24ms/step - loss: 0.3139 - accuracy: 0.8628 - val_loss: 0.2220 - val_accuracy: 0.9141\n",
            "Epoch 2/20\n",
            "229/229 [==============================] - 5s 22ms/step - loss: 0.1545 - accuracy: 0.9460 - val_loss: 0.2173 - val_accuracy: 0.9073\n",
            "Epoch 3/20\n",
            "229/229 [==============================] - 5s 22ms/step - loss: 0.1181 - accuracy: 0.9593 - val_loss: 0.2126 - val_accuracy: 0.9147\n",
            "Epoch 4/20\n",
            "229/229 [==============================] - 5s 22ms/step - loss: 0.0794 - accuracy: 0.9731 - val_loss: 0.2109 - val_accuracy: 0.9289\n",
            "Epoch 5/20\n",
            "229/229 [==============================] - 5s 22ms/step - loss: 0.1267 - accuracy: 0.9487 - val_loss: 0.2350 - val_accuracy: 0.9081\n",
            "Epoch 6/20\n",
            "229/229 [==============================] - 5s 22ms/step - loss: 0.0626 - accuracy: 0.9776 - val_loss: 0.2712 - val_accuracy: 0.9256\n",
            "Epoch 7/20\n",
            "229/229 [==============================] - 5s 21ms/step - loss: 0.0354 - accuracy: 0.9886 - val_loss: 0.2813 - val_accuracy: 0.9234\n",
            "Epoch 8/20\n",
            "229/229 [==============================] - 5s 21ms/step - loss: 0.0293 - accuracy: 0.9906 - val_loss: 0.3100 - val_accuracy: 0.9204\n",
            "Epoch 9/20\n",
            "229/229 [==============================] - 5s 22ms/step - loss: 0.0236 - accuracy: 0.9932 - val_loss: 0.3175 - val_accuracy: 0.9232\n",
            "Epoch 10/20\n",
            "229/229 [==============================] - 5s 22ms/step - loss: 0.0202 - accuracy: 0.9930 - val_loss: 0.3841 - val_accuracy: 0.9032\n",
            "Epoch 11/20\n",
            "229/229 [==============================] - 5s 22ms/step - loss: 0.0132 - accuracy: 0.9956 - val_loss: 0.3994 - val_accuracy: 0.9251\n",
            "Epoch 12/20\n",
            "229/229 [==============================] - 5s 22ms/step - loss: 0.0271 - accuracy: 0.9909 - val_loss: 0.3736 - val_accuracy: 0.9188\n",
            "Epoch 13/20\n",
            "229/229 [==============================] - 5s 22ms/step - loss: 0.0095 - accuracy: 0.9971 - val_loss: 0.3936 - val_accuracy: 0.9212\n",
            "Epoch 14/20\n",
            "229/229 [==============================] - 5s 22ms/step - loss: 0.0073 - accuracy: 0.9984 - val_loss: 0.3815 - val_accuracy: 0.9057\n",
            "Epoch 15/20\n",
            "229/229 [==============================] - 5s 22ms/step - loss: 0.0242 - accuracy: 0.9920 - val_loss: 0.3624 - val_accuracy: 0.9245\n",
            "Epoch 16/20\n",
            "229/229 [==============================] - 5s 22ms/step - loss: 0.0147 - accuracy: 0.9964 - val_loss: 0.3767 - val_accuracy: 0.9081\n",
            "Epoch 17/20\n",
            "229/229 [==============================] - 5s 22ms/step - loss: 0.0101 - accuracy: 0.9973 - val_loss: 0.4086 - val_accuracy: 0.9169\n",
            "Epoch 18/20\n",
            "229/229 [==============================] - 5s 22ms/step - loss: 0.0058 - accuracy: 0.9982 - val_loss: 0.3949 - val_accuracy: 0.9180\n",
            "Epoch 19/20\n",
            "229/229 [==============================] - 5s 22ms/step - loss: 0.0161 - accuracy: 0.9960 - val_loss: 0.3999 - val_accuracy: 0.9229\n",
            "Epoch 20/20\n",
            "229/229 [==============================] - 5s 22ms/step - loss: 0.0128 - accuracy: 0.9956 - val_loss: 0.3834 - val_accuracy: 0.9234\n"
          ]
        },
        {
          "data": {
            "text/plain": [
              "<tensorflow.python.keras.callbacks.History at 0x7faf1d6c3da0>"
            ]
          },
          "execution_count": 21,
          "metadata": {
            "tags": []
          },
          "output_type": "execute_result"
        }
      ],
      "source": [
        "model.fit(X_train, y_train, validation_data=(X_test, y_test), epochs = 20, batch_size = 64)"
      ]
    },
    {
      "cell_type": "code",
      "execution_count": null,
      "metadata": {
        "id": "12eh8HORPIZL"
      },
      "outputs": [],
      "source": []
    },
    {
      "cell_type": "markdown",
      "metadata": {
        "id": "0PvWzSAjNLtI"
      },
      "source": [
        "## Using Bi-Directional LSTM"
      ]
    },
    {
      "cell_type": "code",
      "execution_count": null,
      "metadata": {
        "id": "eBpkDfELPB42"
      },
      "outputs": [],
      "source": [
        "from tensorflow.keras.layers import Bidirectional"
      ]
    },
    {
      "cell_type": "code",
      "execution_count": null,
      "metadata": {
        "colab": {
          "base_uri": "https://localhost:8080/",
          "height": 286
        },
        "id": "dY1AEz7mNPKO",
        "outputId": "e00cd563-2645-4abb-9677-ca911a43fb01"
      },
      "outputs": [
        {
          "name": "stdout",
          "output_type": "stream",
          "text": [
            "Model: \"sequential_2\"\n",
            "_________________________________________________________________\n",
            "Layer (type)                 Output Shape              Param #   \n",
            "=================================================================\n",
            "embedding_2 (Embedding)      (None, 200, 100)          500000    \n",
            "_________________________________________________________________\n",
            "bidirectional_1 (Bidirection (None, 300)               301200    \n",
            "_________________________________________________________________\n",
            "dropout_3 (Dropout)          (None, 300)               0         \n",
            "_________________________________________________________________\n",
            "dense_2 (Dense)              (None, 1)                 301       \n",
            "=================================================================\n",
            "Total params: 801,501\n",
            "Trainable params: 801,501\n",
            "Non-trainable params: 0\n",
            "_________________________________________________________________\n"
          ]
        }
      ],
      "source": [
        "embedding_vector_features = 100\n",
        "\n",
        "model = Sequential()\n",
        "\n",
        "model.add(Embedding(vocab_size, embedding_vector_features, input_length=sentence_length))\n",
        "\n",
        "model.add(Dropout(0.25))\n",
        "model.add(Bidirectional(LSTM(150)))\n",
        "model.add(Dropout(0.25))\n",
        "\n",
        "model.add(Dense(1, activation = 'sigmoid'))\n",
        "\n",
        "model.compile(loss = 'binary_crossentropy', optimizer = 'adam', metrics = ['accuracy'])\n",
        "\n",
        "model.summary()"
      ]
    },
    {
      "cell_type": "code",
      "execution_count": null,
      "metadata": {
        "colab": {
          "base_uri": "https://localhost:8080/",
          "height": 706
        },
        "id": "Pxky7AofPM03",
        "outputId": "9b3ad21f-2708-4d42-ef6d-875ffa9c55f7"
      },
      "outputs": [
        {
          "name": "stdout",
          "output_type": "stream",
          "text": [
            "Epoch 1/20\n",
            "115/115 [==============================] - 6s 52ms/step - loss: 0.3522 - accuracy: 0.8316 - val_loss: 0.2169 - val_accuracy: 0.9204\n",
            "Epoch 2/20\n",
            "115/115 [==============================] - 5s 46ms/step - loss: 0.1508 - accuracy: 0.9457 - val_loss: 0.1771 - val_accuracy: 0.9292\n",
            "Epoch 3/20\n",
            "115/115 [==============================] - 5s 46ms/step - loss: 0.1016 - accuracy: 0.9661 - val_loss: 0.1857 - val_accuracy: 0.9295\n",
            "Epoch 4/20\n",
            "115/115 [==============================] - 5s 46ms/step - loss: 0.0669 - accuracy: 0.9768 - val_loss: 0.2181 - val_accuracy: 0.9273\n",
            "Epoch 5/20\n",
            "115/115 [==============================] - 5s 45ms/step - loss: 0.0452 - accuracy: 0.9856 - val_loss: 0.2466 - val_accuracy: 0.9311\n",
            "Epoch 6/20\n",
            "115/115 [==============================] - 5s 46ms/step - loss: 0.0376 - accuracy: 0.9878 - val_loss: 0.2505 - val_accuracy: 0.9305\n",
            "Epoch 7/20\n",
            "115/115 [==============================] - 5s 46ms/step - loss: 0.0197 - accuracy: 0.9943 - val_loss: 0.2660 - val_accuracy: 0.9295\n",
            "Epoch 8/20\n",
            "115/115 [==============================] - 5s 46ms/step - loss: 0.0158 - accuracy: 0.9949 - val_loss: 0.3036 - val_accuracy: 0.9259\n",
            "Epoch 9/20\n",
            "115/115 [==============================] - 5s 46ms/step - loss: 0.0100 - accuracy: 0.9973 - val_loss: 0.3581 - val_accuracy: 0.9281\n",
            "Epoch 10/20\n",
            "115/115 [==============================] - 5s 46ms/step - loss: 0.0048 - accuracy: 0.9986 - val_loss: 0.3685 - val_accuracy: 0.9314\n",
            "Epoch 11/20\n",
            "115/115 [==============================] - 5s 46ms/step - loss: 0.0171 - accuracy: 0.9945 - val_loss: 0.2871 - val_accuracy: 0.9295\n",
            "Epoch 12/20\n",
            "115/115 [==============================] - 5s 46ms/step - loss: 0.0127 - accuracy: 0.9960 - val_loss: 0.3301 - val_accuracy: 0.9270\n",
            "Epoch 13/20\n",
            "115/115 [==============================] - 5s 46ms/step - loss: 0.0102 - accuracy: 0.9973 - val_loss: 0.3368 - val_accuracy: 0.9245\n",
            "Epoch 14/20\n",
            "115/115 [==============================] - 5s 46ms/step - loss: 0.0070 - accuracy: 0.9986 - val_loss: 0.3371 - val_accuracy: 0.9286\n",
            "Epoch 15/20\n",
            "115/115 [==============================] - 5s 45ms/step - loss: 0.0018 - accuracy: 0.9999 - val_loss: 0.3628 - val_accuracy: 0.9292\n",
            "Epoch 16/20\n",
            "115/115 [==============================] - 5s 45ms/step - loss: 8.0358e-04 - accuracy: 0.9999 - val_loss: 0.4061 - val_accuracy: 0.9349\n",
            "Epoch 17/20\n",
            "115/115 [==============================] - 5s 46ms/step - loss: 6.3994e-04 - accuracy: 0.9999 - val_loss: 0.4188 - val_accuracy: 0.9346\n",
            "Epoch 18/20\n",
            "115/115 [==============================] - 5s 45ms/step - loss: 6.0642e-04 - accuracy: 0.9999 - val_loss: 0.4408 - val_accuracy: 0.9366\n",
            "Epoch 19/20\n",
            "115/115 [==============================] - 5s 45ms/step - loss: 5.7161e-04 - accuracy: 0.9999 - val_loss: 0.4261 - val_accuracy: 0.9360\n",
            "Epoch 20/20\n",
            "115/115 [==============================] - 5s 45ms/step - loss: 5.3605e-04 - accuracy: 0.9999 - val_loss: 0.4538 - val_accuracy: 0.9363\n"
          ]
        },
        {
          "data": {
            "text/plain": [
              "<tensorflow.python.keras.callbacks.History at 0x7faf1dd425c0>"
            ]
          },
          "execution_count": 25,
          "metadata": {
            "tags": []
          },
          "output_type": "execute_result"
        }
      ],
      "source": [
        "model.fit(X_train, y_train, validation_data=(X_test, y_test), epochs = 20, batch_size = 128)"
      ]
    }
  ],
  "metadata": {
    "accelerator": "GPU",
    "colab": {
      "collapsed_sections": [],
      "name": "Fake_News_Classifier_Using_LSTM.ipynb",
      "provenance": []
    },
    "kernelspec": {
      "display_name": "Python 3",
      "name": "python3"
    },
    "language_info": {
      "codemirror_mode": {
        "name": "ipython",
        "version": 3
      },
      "file_extension": ".py",
      "mimetype": "text/x-python",
      "name": "python",
      "nbconvert_exporter": "python",
      "pygments_lexer": "ipython3",
      "version": "3.9.5"
    }
  },
  "nbformat": 4,
  "nbformat_minor": 0
}
